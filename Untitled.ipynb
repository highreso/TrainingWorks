{
 "cells": [
  {
   "cell_type": "code",
   "execution_count": 12,
   "metadata": {},
   "outputs": [],
   "source": [
    "def simple_match(str1,str2):\n",
    "    place = []\n",
    "    for letter1 in str1:\n",
    "        for letter2 in str2:\n",
    "            if letter2 == letter1:\n",
    "                print ('match:',letter1,str1.find(letter1))\n",
    "                place += [str1.find(letter1)] \n",
    "            else:\n",
    "                continue\n",
    "    print (place)\n",
    "    if place[0] + 2 == place[1] +1 == place[2]:\n",
    "        return (place[0])\n",
    "    else:\n",
    "        return (-1)\n",
    "    "
   ]
  },
  {
   "cell_type": "code",
   "execution_count": null,
   "metadata": {},
   "outputs": [],
   "source": []
  },
  {
   "cell_type": "code",
   "execution_count": null,
   "metadata": {},
   "outputs": [],
   "source": []
  },
  {
   "cell_type": "code",
   "execution_count": 15,
   "metadata": {},
   "outputs": [
    {
     "name": "stdout",
     "output_type": "stream",
     "text": [
      "match: c 2\n",
      "match: a 3\n",
      "match: t 4\n",
      "[2, 3, 4]\n",
      "True\n",
      "match: c 2\n",
      "match: c 2\n",
      "[2, 2]\n",
      "True\n",
      "match: c 0\n",
      "match: a 1\n",
      "match: t 2\n",
      "[0, 1, 2]\n",
      "True\n",
      "match: c 0\n",
      "match: a 1\n",
      "match: t 5\n",
      "[0, 1, 5]\n",
      "True\n"
     ]
    }
   ],
   "source": [
    "print(simple_match('location', 'cat') == 2)\n",
    "print(simple_match('soccer', 'cat') == -1)\n",
    "print(simple_match('category', 'cat') == 0)\n",
    "print(simple_match('carpet', 'cat') == -1)"
   ]
  },
  {
   "cell_type": "code",
   "execution_count": 22,
   "metadata": {},
   "outputs": [
    {
     "name": "stdout",
     "output_type": "stream",
     "text": [
      "yeah!\n",
      "yeah!\n",
      "yeah!\n",
      "yeah!\n",
      "yeah!\n",
      "yeah!\n",
      "yeah!\n",
      "yeah!\n",
      "yeah!\n",
      "yeah!\n"
     ]
    }
   ],
   "source": [
    "from time import sleep\n",
    "i=0\n",
    "while True:\n",
    "    if i < 10:\n",
    "        print('yeah!')\n",
    "        sleep(1)\n",
    "        i+=1\n",
    "    else:\n",
    "        break"
   ]
  },
  {
   "cell_type": "code",
   "execution_count": 55,
   "metadata": {},
   "outputs": [],
   "source": [
    "def collect_engwords(engsentences):\n",
    "    collected_engwords = []\n",
    "    engsentences = engsentences.replace(',','').replace('.','').replace('!','').replace('?','')\n",
    "    split_engwords=engsentences.split(\" \")\n",
    "    #print (split_engwords)\n",
    "    for words in split_engwords:\n",
    "        if len(words) <= 2:\n",
    "            continue\n",
    "        else:\n",
    "            collected_engwords += [words]\n",
    "    print (collected_engwords)\n",
    "    return (collected_engwords)"
   ]
  },
  {
   "cell_type": "code",
   "execution_count": 56,
   "metadata": {},
   "outputs": [
    {
     "name": "stdout",
     "output_type": "stream",
     "text": [
      "['Unfortunately', 'requires', 'something', 'with', 'little', 'more', 'kick', 'plutonium']\n",
      "True\n"
     ]
    }
   ],
   "source": [
    "print(collect_engwords('Unfortunately no, it requires something with a little more kick, plutonium.') == ['Unfortunately', 'requires', 'something', 'with', 'little', 'more', 'kick', 'plutonium'])"
   ]
  },
  {
   "cell_type": "code",
   "execution_count": 86,
   "metadata": {},
   "outputs": [],
   "source": [
    "def swap_lists(ln1, ln2):\n",
    "    if len(ln1) != len(ln2):\n",
    "        return\n",
    "    else:\n",
    "        i=0\n",
    "        while i < len(ln1):\n",
    "            if i==0 or i % 2==0:\n",
    "                i += 1\n",
    "            else:\n",
    "                pool = ln1[i]\n",
    "                ln1[i] = ln2[i]\n",
    "                ln2[i] = pool\n",
    "                i += 1\n",
    "                print (ln1,ln2)\n",
    "        return (ln1,ln2)"
   ]
  },
  {
   "cell_type": "code",
   "execution_count": 87,
   "metadata": {},
   "outputs": [
    {
     "name": "stdout",
     "output_type": "stream",
     "text": [
      "[1, 'b', 3, 4, 5] ['a', 2, 'c', 'd', 'e']\n",
      "[1, 'b', 3, 'd', 5] ['a', 2, 'c', 4, 'e']\n",
      "True\n"
     ]
    }
   ],
   "source": [
    "print(swap_lists([1, 2, 3, 4, 5], ['a', 'b', 'c', 'd', 'e']) == ([1, 'b', 3, 'd',5], ['a', 2, 'c', 4, 'e']))"
   ]
  },
  {
   "cell_type": "code",
   "execution_count": 108,
   "metadata": {},
   "outputs": [],
   "source": [
    "def count_capitalletters(str1):\n",
    "    i = 0\n",
    "    num = 0\n",
    "    while i<len(str1):\n",
    "        if str1[i].isupper() == True:\n",
    "            i += 1\n",
    "            num += 1\n",
    "            print (str1[i-1])\n",
    "        else:\n",
    "            i += 1\n",
    "    print (num)\n",
    "    return (num)"
   ]
  },
  {
   "cell_type": "code",
   "execution_count": 109,
   "metadata": {},
   "outputs": [
    {
     "name": "stdout",
     "output_type": "stream",
     "text": [
      "Q\n",
      "S\n",
      "S\n",
      "3\n",
      "True\n"
     ]
    }
   ],
   "source": [
    "print(count_capitalletters('Que Ser^^c3^^a1, Ser^^c3^^a1') == 3)"
   ]
  },
  {
   "cell_type": "code",
   "execution_count": 196,
   "metadata": {},
   "outputs": [],
   "source": [
    "def identify_codons(str_augc):\n",
    "    i=0\n",
    "    lst=[]\n",
    "    for c in range(int(len(str_augc)/3)):\n",
    "        lst = lst + [str_augc[i:i+3]]\n",
    "        i += 3\n",
    "    print (lst)\n",
    "    return (lst)\n",
    "#.appendコマンドを使うとよい"
   ]
  },
  {
   "cell_type": "code",
   "execution_count": 197,
   "metadata": {},
   "outputs": [
    {
     "name": "stdout",
     "output_type": "stream",
     "text": [
      "['CCC', 'CCG', 'GCA', 'CCT']\n",
      "True\n"
     ]
    }
   ],
   "source": [
    "print(identify_codons('CCCCCGGCACCT') == ['CCC', 'CCG', 'GCA', 'CCT'])"
   ]
  },
  {
   "cell_type": "code",
   "execution_count": 36,
   "metadata": {},
   "outputs": [],
   "source": [
    "def add_commas(int1):\n",
    "    list1 = list(str(int1))\n",
    "    strl='' #空文字列\n",
    "    ccnt = 1\n",
    "    for i in range(len(list1)-1,-1,-1):\n",
    "        strl = list1[i] + strl\n",
    "        if  ccnt % 3 ==0 and i != 0:\n",
    "            strl = ',' + strl\n",
    "        ccnt += 1\n",
    "    return strl"
   ]
  },
  {
   "cell_type": "code",
   "execution_count": 37,
   "metadata": {},
   "outputs": [
    {
     "name": "stdout",
     "output_type": "stream",
     "text": [
      "1,000,000,034,253,495,784,983\n"
     ]
    }
   ],
   "source": [
    "print(add_commas(1000000034253495784983))"
   ]
  },
  {
   "cell_type": "code",
   "execution_count": 32,
   "metadata": {},
   "outputs": [],
   "source": [
    "def sum_strings(list1):\n",
    "    i=0\n",
    "    sum_str = ''\n",
    "    for i in range(len(list1)):\n",
    "        if type(list1[i]) == str:\n",
    "            pass\n",
    "        else:\n",
    "            list1[i] = str(list1[i])\n",
    "        if i == 0:\n",
    "            sum_str = sum_str + list1[i]\n",
    "        elif i < len(list1)-1 :\n",
    "            sum_str = sum_str + ', ' + list1[i]\n",
    "        else:\n",
    "            sum_str = sum_str + ' and ' + list1[i]\n",
    "        i += 1\n",
    "    return sum_str"
   ]
  },
  {
   "cell_type": "code",
   "execution_count": 34,
   "metadata": {},
   "outputs": [
    {
     "name": "stdout",
     "output_type": "stream",
     "text": [
      "True\n",
      "True\n",
      "True\n"
     ]
    }
   ],
   "source": [
    "print(sum_strings(['a', 'b', 'c', 'd']) == 'a, b, c and d')\n",
    "print(sum_strings(['a']) == 'a')\n",
    "print(sum_strings([1, 2, 3]) == '1, 2 and 3')"
   ]
  },
  {
   "cell_type": "code",
   "execution_count": 46,
   "metadata": {},
   "outputs": [],
   "source": [
    "def handle_collision2(dic1,str1):\n",
    "    n = len(str1)\n",
    "    if not n in dic1:\n",
    "        dic1[n] = str1\n",
    "    else:\n",
    "        for x in range(n+1, 9):\n",
    "            if not x in dic1:\n",
    "                dic1[x] = str1\n",
    "                break\n",
    "            else:\n",
    "                pass\n",
    "        for y in range(1, n-1):\n",
    "            if not y in dic1:\n",
    "                dic1[y] = str1\n",
    "                break\n",
    "            else:\n",
    "                pass\n",
    "    return dic1\n",
    "                    \n",
    "                \n",
    "        \n",
    "    "
   ]
  },
  {
   "cell_type": "code",
   "execution_count": 47,
   "metadata": {},
   "outputs": [
    {
     "name": "stdout",
     "output_type": "stream",
     "text": [
      "True\n",
      "True\n",
      "{6: 'Styles', 4: 'Link', 7: 'Ackroyd', 8: 'Big Four', 10: 'Blue Train', 9: 'End House', 1: 'Edgware'}\n",
      "True\n",
      "{6: 'Styles', 4: 'Link', 7: 'Ackroyd', 8: 'Big Four', 10: 'Blue Train', 9: 'End House', 1: 'Edgware', 2: 'Orient', 3: 'Three Act', 5: 'Clouds'}\n"
     ]
    }
   ],
   "source": [
    "dic1_orig = {6: 'Styles', 4: 'Link', 7: 'Ackroyd'}\n",
    "handle_collision2(dic1_orig, 'Big Four')\n",
    "print(dic1_orig == {6: 'Styles', 4: 'Link', 7: 'Ackroyd', 8: 'Big Four'})\n",
    "\n",
    "dic1_orig = {6: 'Styles', 4: 'Link', 7: 'Ackroyd', 8: 'Big Four', 10: 'Blue Train', 9: 'End House'}\n",
    "handle_collision2(dic1_orig, 'Edgware')\n",
    "print(dic1_orig == {6: 'Styles', 4: 'Link', 7: 'Ackroyd', 8: 'Big Four', 10: 'Blue Train', 9: 'End House', 1: 'Edgware'})\n",
    "print(dic1_orig)\n",
    "\n",
    "dic1_orig = {6: 'Styles', 4: 'Link', 7: 'Ackroyd', 8: 'Big Four', 10: 'Blue Train', 9: 'End House', 1: 'Edgware', 2: 'Orient', 3: 'Three Act', 5: 'Clouds'}\n",
    "handle_collision2(dic1_orig, 'ABC')\n",
    "print(dic1_orig == {6: 'Styles', 4: 'Link', 7: 'Ackroyd', 8: 'Big Four', 10: 'Blue Train', 9: 'End House', 1: 'Edgware', 2: 'Orient', 3: 'Three Act', 5: 'Clouds'})\n",
    "print(dic1_orig)"
   ]
  },
  {
   "cell_type": "code",
   "execution_count": 74,
   "metadata": {},
   "outputs": [],
   "source": [
    "def handle_collision3(list1):\n",
    "    n=0\n",
    "    dic1 = {}\n",
    "    for x in range(len(list1)):       \n",
    "        for y in range(n):\n",
    "            if list1[x][0] == list1[y][0]:\n",
    "                pass\n",
    "            else:\n",
    "                dic1[list1[x][0]]= list1[x][1]\n",
    "                print (dic1)\n",
    "                continue\n",
    "        print('n=',n)\n",
    "        n += 1\n",
    "    return dic1"
   ]
  },
  {
   "cell_type": "code",
   "execution_count": 75,
   "metadata": {},
   "outputs": [
    {
     "name": "stdout",
     "output_type": "stream",
     "text": [
      "n= 0\n",
      "{1: 'Othello'}\n",
      "n= 1\n",
      "{1: 'Othello', 2: 'Tempest'}\n",
      "{1: 'Othello', 2: 'Tempest'}\n",
      "n= 2\n",
      "{1: 'Othello', 2: 'Tempest', 3: 'King John'}\n",
      "{1: 'Othello', 2: 'Tempest', 3: 'King John'}\n",
      "n= 3\n",
      "{1: 'Othello', 2: 'Tempest', 3: 'King John', 4: 'Midsummer'}\n",
      "{1: 'Othello', 2: 'Tempest', 3: 'King John', 4: 'Midsummer'}\n",
      "{1: 'Othello', 2: 'Tempest', 3: 'King John', 4: 'Midsummer'}\n",
      "{1: 'Othello', 2: 'Tempest', 3: 'King John', 4: 'Midsummer'}\n",
      "n= 4\n",
      "{1: 'Lear', 2: 'Tempest', 3: 'King John', 4: 'Midsummer'}\n",
      "{1: 'Lear', 2: 'Tempest', 3: 'King John', 4: 'Midsummer'}\n",
      "{1: 'Lear', 2: 'Tempest', 3: 'King John', 4: 'Midsummer'}\n",
      "{1: 'Lear', 2: 'Tempest', 3: 'King John', 4: 'Midsummer'}\n",
      "n= 5\n",
      "False\n"
     ]
    }
   ],
   "source": [
    "print(handle_collision3([[3, 'Richard III'], [1, 'Othello'], [2, 'Tempest'], [3, 'King John'], [4, 'Midsummer'], [1, 'Lear']]) == {1: 'Othello', 2: 'Tempest', 3: 'Richard III', 4: 'Midsummer'})"
   ]
  },
  {
   "cell_type": "code",
   "execution_count": 2,
   "metadata": {},
   "outputs": [
    {
     "data": {
      "text/plain": [
       "\"'OguriCap'\""
      ]
     },
     "execution_count": 2,
     "metadata": {},
     "output_type": "execute_result"
    }
   ],
   "source": [
    "name = \"OguriCap\"\n",
    "repr(name)"
   ]
  },
  {
   "cell_type": "code",
   "execution_count": 4,
   "metadata": {},
   "outputs": [
    {
     "data": {
      "text/plain": [
       "'datetime.date(2021, 4, 8)'"
      ]
     },
     "execution_count": 4,
     "metadata": {},
     "output_type": "execute_result"
    }
   ],
   "source": [
    "import datetime\n",
    "today = datetime.date.today()\n",
    "str(today)\n",
    "repr(today)\n"
   ]
  },
  {
   "cell_type": "code",
   "execution_count": 10,
   "metadata": {},
   "outputs": [
    {
     "data": {
      "image/png": "[encoded data removed]",
      "text/plain": [
       "<Figure size 432x288 with 1 Axes>"
      ]
     },
     "metadata": {
      "needs_background": "light"
     },
     "output_type": "display_data"
    }
   ],
   "source": [
    "%matplotlib inline\n",
    "import matplotlib.pyplot as plt\n",
    "\n",
    "n, bins, patches = plt.hist([298.8, 349.6, 338.5, 307.0, 355.5, 315.2, 363.3, 255.6, 342.5, 303.3, 285.6, 405.5, 395.2, 364.4, 306.6, 367.4, 314.4, 366.6, 350.7, 348.5, 358.5, 285.9, 332.6, 280.3, 294.4, 311.8, 334.8, 304.7])\n",
    "plt.xlabel(\"Hashrate\")\n",
    "plt.ylabel(\"Freq\")\n",
    "plt.title(\"Hashrate_Histogram\")\n",
    "plt.show()\n"
   ]
  },
  {
   "cell_type": "code",
   "execution_count": 17,
   "metadata": {},
   "outputs": [
    {
     "data": {
      "image/png": "[encoded data removed]",
      "text/plain": [
       "<Figure size 432x288 with 1 Axes>"
      ]
     },
     "metadata": {
      "needs_background": "light"
     },
     "output_type": "display_data"
    }
   ],
   "source": [
    "%matplotlib inline\n",
    "import matplotlib.pyplot as plt\n",
    "import numpy as np\n",
    "\n",
    "data_array = [298.8, 349.6, 338.5, 307.0, 355.5, 315.2, 363.3, 255.6, 342.5, 303.3, 285.6, 405.5, 395.2, 364.4, 306.6, 367.4, 314.4, 366.6, 350.7, 348.5, 358.5, 285.9, 332.6, 280.3, 294.4, 311.8, 334.8, 304.7]\n",
    "\n",
    "# リストをndarrayに変換→グラフ描画用の演算を可能にするため\n",
    "data = np.array(data_array)\n",
    " \n",
    "# ヒストグラム\n",
    "fig = plt.figure()\n",
    "ax = fig.add_subplot(1, 1, 1)\n",
    "ax.hist(data, bins=12, histtype='barstacked', ec='black')\n",
    "plt.show()"
   ]
  },
  {
   "cell_type": "code",
   "execution_count": 45,
   "metadata": {},
   "outputs": [
    {
     "name": "stdout",
     "output_type": "stream",
     "text": [
      "333.70000000000005\n"
     ]
    },
    {
     "data": {
      "text/plain": [
       "<matplotlib.lines.Line2D at 0x7f423cd07950>"
      ]
     },
     "execution_count": 45,
     "metadata": {},
     "output_type": "execute_result"
    },
    {
     "data": {
      "image/png": "[encoded data removed]",
      "text/plain": [
       "<Figure size 432x288 with 1 Axes>"
      ]
     },
     "metadata": {
      "needs_background": "light"
     },
     "output_type": "display_data"
    }
   ],
   "source": [
    "#%matplotlib inline\n",
    "import statistics\n",
    "import math\n",
    "import matplotlib as mpl\n",
    "import matplotlib.pyplot as plt\n",
    "median = statistics.median(data_array)\n",
    "mean = statistics.mean(data_array)\n",
    "fig = plt.figure()\n",
    "print(median)\n",
    "data_array = [298.8, 349.6, 338.5, 307.0, 355.5, 315.2, 363.3, 255.6, 342.5, 303.3, 285.6, 405.5, 395.2, 364.4, 306.6, 367.4, 314.4, 366.6, 350.7, 348.5, 358.5, 285.9, 332.6, 280.3, 294.4, 311.8, 334.8, 304.7]\n",
    "n, bins, patches = plt.hist(data_array)\n",
    "ax.axvline(median)"
   ]
  }
 ],
 "metadata": {
  "kernelspec": {
   "display_name": "Environment (conda_anaconda3)",
   "language": "python",
   "name": "conda_anaconda3"
  },
  "language_info": {
   "codemirror_mode": {
    "name": "ipython",
    "version": 3
   },
   "file_extension": ".py",
   "mimetype": "text/x-python",
   "name": "python",
   "nbconvert_exporter": "python",
   "pygments_lexer": "ipython3",
   "version": "3.7.4"
  }
 },
 "nbformat": 4,
 "nbformat_minor": 4
}
