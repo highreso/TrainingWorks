{
 "cells": [
  {
   "cell_type": "code",
   "execution_count": 19,
   "metadata": {},
   "outputs": [
    {
     "ename": "NameError",
     "evalue": "name 'from_addr' is not defined",
     "output_type": "error",
     "traceback": [
      "\u001b[0;31m---------------------------------------------------------------------------\u001b[0m",
      "\u001b[0;31mNameError\u001b[0m                                 Traceback (most recent call last)",
      "\u001b[0;32m<ipython-input-19-49ace1215ecb>\u001b[0m in \u001b[0;36m<module>\u001b[0;34m\u001b[0m\n\u001b[1;32m     56\u001b[0m \u001b[0;34m\u001b[0m\u001b[0m\n\u001b[1;32m     57\u001b[0m \u001b[0;32melse\u001b[0m\u001b[0;34m:\u001b[0m\u001b[0;34m\u001b[0m\u001b[0;34m\u001b[0m\u001b[0m\n\u001b[0;32m---> 58\u001b[0;31m     \u001b[0mcreate_message\u001b[0m\u001b[0;34m(\u001b[0m\u001b[0mfrom_addr\u001b[0m\u001b[0;34m,\u001b[0m \u001b[0mpsw\u001b[0m\u001b[0;34m,\u001b[0m \u001b[0mto_addr\u001b[0m\u001b[0;34m,\u001b[0m \u001b[0msubject\u001b[0m\u001b[0;34m,\u001b[0m \u001b[0mbody\u001b[0m\u001b[0;34m)\u001b[0m\u001b[0;34m\u001b[0m\u001b[0;34m\u001b[0m\u001b[0m\n\u001b[0m",
      "\u001b[0;31mNameError\u001b[0m: name 'from_addr' is not defined"
     ]
    }
   ],
   "source": [
    "from inspect import currentframe\n",
    "\n",
    "def chkprint(*args):\n",
    "    names = {id(v):k for k,v in currentframe().f_back.f_locals.items()}\n",
    "    print(', '.join(names.get(id(arg),'???')+' = '+repr(arg) for arg in args))\n",
    "\n",
    "def create_message(from_addr, psw, to_addr, subject, body):\n",
    "    ## Gmailへログインを行いメールアカウントを制御可能状態にする\n",
    "    import smtplib\n",
    "    MAIL_ADDRESS = from_addr  # 送信元アドレス\n",
    "    PASSWORD = psw  # Gmailのパスワード。https://support.google.com/accounts/answer/6010255　から「安全性の低いアプリの許可」をオンに\n",
    "    smtpobj = smtplib.SMTP('smtp.gmail.com', 587)\n",
    "    smtpobj.ehlo()\n",
    "    smtpobj.starttls()\n",
    "    smtpobj.ehlo()\n",
    "    smtpobj.login(MAIL_ADDRESS, PASSWORD)\n",
    "\n",
    "    ## メール文を作成する\n",
    "    from email.mime.text import MIMEText\n",
    "    from email.utils import formatdate\n",
    "\n",
    "    msg = MIMEText(body)\n",
    "    msg['Subject'] = subject\n",
    "    msg['From'] = from_addr\n",
    "    msg['To'] = to_addr\n",
    "    msg['Date'] = formatdate()\n",
    "    print(msg, \"\\n上記の内容で送信します\")\n",
    "\n",
    "    ## メール送信の実行\n",
    "    smtpobj.sendmail(msg['From'], msg['To'], msg.as_string())\n",
    "    smtpobj.close()\n",
    "\n",
    "confirm_sending = False\n",
    "\n",
    "while confirm_sending == True:\n",
    "    print ('input from_address')\n",
    "    from_addr = input()\n",
    "    print('input psw')\n",
    "    psw = input()\n",
    "    print('input to_address')\n",
    "    to_addr = input()\n",
    "    print('input Subject')\n",
    "    subject = input()\n",
    "    print('input mail body')\n",
    "    body = input()\n",
    "    print(from_addr, psw, to_addr, subject, body, \"この内容で送信しますか？(y/n)\", sep=\"\\n\")\n",
    "    sel = input()\n",
    "    while sel == \"y\" or sel == \"n\":\n",
    "        if sel == \"y\":\n",
    "            confirm_sending = True\n",
    "        elif sel == \"n\":\n",
    "            confirm_sending = False\n",
    "            continue\n",
    "        else:\n",
    "            print('incorrect input')\n",
    "\n",
    "else:\n",
    "    create_message(from_addr, psw, to_addr, subject, body)"
   ]
  },
  {
   "cell_type": "code",
   "execution_count": 18,
   "metadata": {},
   "outputs": [
    {
     "ename": "NameError",
     "evalue": "name 'S' is not defined",
     "output_type": "error",
     "traceback": [
      "\u001b[0;31m---------------------------------------------------------------------------\u001b[0m",
      "\u001b[0;31mNameError\u001b[0m                                 Traceback (most recent call last)",
      "\u001b[0;32m<ipython-input-18-df23348f6d3c>\u001b[0m in \u001b[0;36m<module>\u001b[0;34m\u001b[0m\n\u001b[0;32m----> 1\u001b[0;31m \u001b[0mS\u001b[0m\u001b[0;34m\u001b[0m\u001b[0;34m\u001b[0m\u001b[0m\n\u001b[0m",
      "\u001b[0;31mNameError\u001b[0m: name 'S' is not defined"
     ]
    }
   ],
   "source": [
    "S"
   ]
  }
 ],
 "metadata": {
  "kernelspec": {
   "display_name": "Environment (conda_python3)",
   "language": "python",
   "name": "conda_python3"
  },
  "language_info": {
   "codemirror_mode": {
    "name": "ipython",
    "version": 3
   },
   "file_extension": ".py",
   "mimetype": "text/x-python",
   "name": "python",
   "nbconvert_exporter": "python",
   "pygments_lexer": "ipython3",
   "version": "3.6.12"
  }
 },
 "nbformat": 4,
 "nbformat_minor": 4
}
